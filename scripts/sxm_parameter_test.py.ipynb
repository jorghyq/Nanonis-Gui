{
 "cells": [
  {
   "cell_type": "code",
   "execution_count": 1,
   "metadata": {
    "collapsed": true,
    "deletable": true,
    "editable": true
   },
   "outputs": [],
   "source": [
    "import sys\n",
    "import numpy as np\n",
    "sys.path.insert(1,'../nbrowser/')\n",
    "from nanonisfile import NanonisFile "
   ]
  },
  {
   "cell_type": "code",
   "execution_count": 2,
   "metadata": {
    "collapsed": false,
    "deletable": true,
    "editable": true
   },
   "outputs": [],
   "source": [
    "sxm = NanonisFile('../test/A150114.101316-01257.sxm')"
   ]
  },
  {
   "cell_type": "code",
   "execution_count": 4,
   "metadata": {
    "collapsed": false,
    "deletable": true,
    "editable": true
   },
   "outputs": [],
   "source": [
    "sxm = NanonisFile('/home/jorghyq/Data/201611/A161127.180513-00051.sxm')"
   ]
  },
  {
   "cell_type": "code",
   "execution_count": 5,
   "metadata": {
    "collapsed": false,
    "deletable": true,
    "editable": true,
    "scrolled": true
   },
   "outputs": [
    {
     "data": {
      "text/plain": [
       "{'acq_time': 424.0,\n",
       " 'bias': 1.0,\n",
       " 'bias>bias (v)': '1E+0',\n",
       " 'bias>calibration (v/v)': '1E+0',\n",
       " 'bias>offset (v)': '0E+0',\n",
       " 'channel': 21,\n",
       " 'comment': 'Ag111\\n2HP 195C 5min\\nCO 1e-8mbar 30sec\\n',\n",
       " 'current>calibration (a/v)': '-100E-12',\n",
       " 'current>current (a)': '107.756E-12',\n",
       " 'current>gain': 'n/a',\n",
       " 'current>offset (a)': '-691.541E-15',\n",
       " 'data_info': [{'Calibration': '-3.484E-9',\n",
       "   'Channel': '14',\n",
       "   'Direction': 'both',\n",
       "   'Name': 'Z',\n",
       "   'Offset': '0.000E+0',\n",
       "   'Unit': 'm'},\n",
       "  {'Calibration': '-2.772E+1',\n",
       "   'Channel': '2',\n",
       "   'Direction': 'both',\n",
       "   'Name': 'temperature_AFM',\n",
       "   'Offset': '4.923E+1',\n",
       "   'Unit': 'V'},\n",
       "  {'Calibration': '1.000E+0',\n",
       "   'Channel': '5',\n",
       "   'Direction': 'both',\n",
       "   'Name': 'Applied_Voltage_measured',\n",
       "   'Offset': '0.000E+0',\n",
       "   'Unit': 'V'},\n",
       "  {'Calibration': '1.000E+0',\n",
       "   'Channel': '8',\n",
       "   'Direction': 'both',\n",
       "   'Name': 'Bias',\n",
       "   'Offset': '0.000E+0',\n",
       "   'Unit': 'V'},\n",
       "  {'Calibration': '-1.000E-10',\n",
       "   'Channel': '0',\n",
       "   'Direction': 'both',\n",
       "   'Name': 'Current',\n",
       "   'Offset': '-6.915E-13',\n",
       "   'Unit': 'A'},\n",
       "  {'Calibration': '1.800E+1',\n",
       "   'Channel': '16',\n",
       "   'Direction': 'both',\n",
       "   'Name': 'Phase',\n",
       "   'Offset': '0.000E+0',\n",
       "   'Unit': 'deg'},\n",
       "  {'Calibration': '2.426E-10',\n",
       "   'Channel': '17',\n",
       "   'Direction': 'both',\n",
       "   'Name': 'Amplitude',\n",
       "   'Offset': '0.000E+0',\n",
       "   'Unit': 'm'},\n",
       "  {'Calibration': '3.815E+0',\n",
       "   'Channel': '18',\n",
       "   'Direction': 'both',\n",
       "   'Name': 'Frequency_Shift',\n",
       "   'Offset': '0.000E+0',\n",
       "   'Unit': 'Hz'},\n",
       "  {'Calibration': '1.000E-2',\n",
       "   'Channel': '19',\n",
       "   'Direction': 'both',\n",
       "   'Name': 'Excitation',\n",
       "   'Offset': '0.000E+0',\n",
       "   'Unit': 'V'},\n",
       "  {'Calibration': '1.000E+0',\n",
       "   'Channel': '20',\n",
       "   'Direction': 'both',\n",
       "   'Name': 'LIX_1_omega',\n",
       "   'Offset': '0.000E+0',\n",
       "   'Unit': 'A'},\n",
       "  {'Calibration': '1.000E+0',\n",
       "   'Channel': '21',\n",
       "   'Direction': 'both',\n",
       "   'Name': 'LIY_1_omega',\n",
       "   'Offset': '0.000E+0',\n",
       "   'Unit': 'A'}],\n",
       " 'filename': '/home/jorghyq/Data/201611/A161127.180513-00051.sxm',\n",
       " 'lock-in>amplitude': '1E+0',\n",
       " 'lock-in>demodulated signal': 'Current (A)',\n",
       " 'lock-in>frequency (hz)': '547E+0',\n",
       " 'lock-in>harmonic': '2',\n",
       " 'lock-in>lock-in status': 'OFF',\n",
       " 'lock-in>modulated signal': 'Bias (V)',\n",
       " 'lock-in>reference phase (deg)': '-82.362E+0',\n",
       " 'nanonismain>animations period (s)': '20E-3',\n",
       " 'nanonismain>indicators period (s)': '300E-3',\n",
       " 'nanonismain>measurements period (s)': '645.624E-3',\n",
       " 'nanonismain>rt frequency (hz)': '10E+3',\n",
       " 'nanonismain>rt release': '6734',\n",
       " 'nanonismain>session path': 'C:\\\\AFM\\\\_data\\\\201611',\n",
       " 'nanonismain>signals oversampling': '10',\n",
       " 'nanonismain>sw version': 'Generic 4',\n",
       " 'nanonismain>ui release': '6734',\n",
       " 'oscillation control>amplitude controller on': 'FALSE',\n",
       " 'oscillation control>amplitude i gain (v/nm/s)': '126.137E+9',\n",
       " 'oscillation control>amplitude p gain (v/nm)': '79.5173E+9',\n",
       " 'oscillation control>amplitude setpoint (m)': '80E-12',\n",
       " 'oscillation control>center frequency (hz)': '30.8431E+3',\n",
       " 'oscillation control>cut off frq (hz)': '389',\n",
       " 'oscillation control>differential input': 'TRUE',\n",
       " 'oscillation control>excitation (v)': '23.0689E-3',\n",
       " 'oscillation control>frequencyshift (hz)': '-16.3402E-3',\n",
       " 'oscillation control>harmonic': '1',\n",
       " 'oscillation control>input 1/10': 'FALSE',\n",
       " 'oscillation control>input calibration (m/v)': '35E-9',\n",
       " 'oscillation control>input range (m)': '2.42594E-9',\n",
       " 'oscillation control>output add': 'FALSE',\n",
       " 'oscillation control>output divider': '0.1',\n",
       " 'oscillation control>output off': 'TRUE',\n",
       " 'oscillation control>phase controller on': 'FALSE',\n",
       " 'oscillation control>phase i gain (hz/rad/s)': '2.21487E+0',\n",
       " 'oscillation control>phase p gain (hz/rad)': '1.39626E+0',\n",
       " 'oscillation control>pll-setup amplitude/excitation (m/v)': '3.985E-9',\n",
       " 'oscillation control>pll-setup demod. bandwidth amp (hz)': '80E+0',\n",
       " 'oscillation control>pll-setup demod. bandwidth pha (hz)': '80E+0',\n",
       " 'oscillation control>pll-setup q-factor': '61.084E+3',\n",
       " 'oscillation control>range (hz)': '38.147E+0',\n",
       " 'oscillation control>reference phase (deg)': '-36.27E+0',\n",
       " 'piezo calibration>2nd order corr x (v/m^2)': '0E+0',\n",
       " 'piezo calibration>2nd order corr y (v/m^2)': '0E+0',\n",
       " 'piezo calibration>active calib.': '4K',\n",
       " 'piezo calibration>calib. x (m/v)': '3.8887E-9',\n",
       " 'piezo calibration>calib. y (m/v)': '3.6202E-9',\n",
       " 'piezo calibration>calib. z (m/v)': '-871E-12',\n",
       " 'piezo calibration>curvature radius x (m)': 'Inf',\n",
       " 'piezo calibration>curvature radius y (m)': 'Inf',\n",
       " 'piezo calibration>drift correction status (on/off)': 'FALSE',\n",
       " 'piezo calibration>drift x (m/s)': '0E+0',\n",
       " 'piezo calibration>drift y (m/s)': '0E+0',\n",
       " 'piezo calibration>drift z (m/s)': '0E+0',\n",
       " 'piezo calibration>hv gain x': '10',\n",
       " 'piezo calibration>hv gain y': '10',\n",
       " 'piezo calibration>hv gain z': '4',\n",
       " 'piezo calibration>tilt x (deg)': '-0.989999',\n",
       " 'piezo calibration>tilt y (deg)': '0.689999',\n",
       " 'rec_date': '27.11.2016',\n",
       " 'rec_temp': 290.0,\n",
       " 'rec_time': '17:58:09',\n",
       " 'scan>channels': 'Current (A);temperature AFM (V);Applied Voltage measured (V);Bias (V);Z (m);Phase (deg);Amplitude (m);Frequency Shift (Hz);Excitation (V);LIX 1 omega (A);LIY 1 omega (A)',\n",
       " 'scan>lines': '512',\n",
       " 'scan>pixels/line': '512',\n",
       " 'scan>scanfield': '-165.827E-9;-11.5418E-9;40E-9;40E-9;0E+0',\n",
       " 'scan>series name': 'A%y%m%d.%H%M%S-%N',\n",
       " 'scan>speed backw. (m/s)': '97.6563E-9',\n",
       " 'scan>speed forw. (m/s)': '97.6563E-9',\n",
       " 'scan_angle': 0.0,\n",
       " 'scan_dir': 'down',\n",
       " 'scan_file': 'C:\\\\AFM\\\\_data\\\\201611\\\\A161127.180513-00051.sxm',\n",
       " 'scan_offset': [-1.658269e-07, -1.154177e-08],\n",
       " 'scan_pixels': [512.0, 512.0],\n",
       " 'scan_range': [4e-08, 4e-08],\n",
       " 'scan_time': [0.4096, 0.4096],\n",
       " 'scanit_type': 'FLOAT            MSBFIRST',\n",
       " 'version': 2,\n",
       " 'z-controller': {'I-gain': '1.193E-8 m/s',\n",
       "  'Name': 'log Current (amplitude safetip)',\n",
       "  'P-gain': '2.220E-10 m',\n",
       "  'Setpoint': '1.000E-10 A',\n",
       "  'T-const': '1.861E-2 s',\n",
       "  'on': '1'},\n",
       " 'z-controller>controller name': 'log Current (amplitude safetip)',\n",
       " 'z-controller>controller status': 'ON',\n",
       " 'z-controller>i gain': '11.9282E-9',\n",
       " 'z-controller>p gain': '221.979E-12',\n",
       " 'z-controller>setpoint': '100E-12',\n",
       " 'z-controller>setpoint unit': 'A',\n",
       " 'z-controller>switch off delay (s)': '50E-3',\n",
       " 'z-controller>time const (s)': '18.6095E-3',\n",
       " 'z-controller>tiplift (m)': '0E+0',\n",
       " 'z-controller>z (m)': '11.4838E-9'}"
      ]
     },
     "execution_count": 5,
     "metadata": {},
     "output_type": "execute_result"
    }
   ],
   "source": [
    "sxm.header"
   ]
  },
  {
   "cell_type": "code",
   "execution_count": 4,
   "metadata": {
    "collapsed": false,
    "deletable": true,
    "editable": true
   },
   "outputs": [
    {
     "name": "stdout",
     "output_type": "stream",
     "text": [
      "(512, 279)\n",
      "(279,)\n"
     ]
    }
   ],
   "source": [
    "data = sxm.data[0]\n",
    "data = data.data[233:]\n",
    "data = data.T\n",
    "print data.shape\n",
    "print np.mean(data,axis=0).shape"
   ]
  },
  {
   "cell_type": "code",
   "execution_count": 5,
   "metadata": {
    "collapsed": false,
    "deletable": true,
    "editable": true
   },
   "outputs": [
    {
     "name": "stdout",
     "output_type": "stream",
     "text": [
      "(279, 512)\n",
      "279 512\n",
      "(279,)\n",
      "(279, 2)\n",
      "(2, 512)\n",
      "(279, 512)\n",
      "(512, 279)\n"
     ]
    }
   ],
   "source": [
    "data_temp = data.T\n",
    "print data_temp.shape\n",
    "n = data_temp.shape[0]\n",
    "m = data_temp.shape[1]\n",
    "print n, m\n",
    "xi = np.arange(n)\n",
    "print xi.shape\n",
    "x= np.array([xi,np.ones(n)]).T\n",
    "print x.shape\n",
    "w= np.linalg.lstsq(x,data_temp)[0]\n",
    "#print w.shape\n",
    "#w = w[0]\n",
    "#print w\n",
    "print w.shape\n",
    "#data_sub = np.zeros([n,n])\n",
    "X = np.array([xi,]*int(m)).T\n",
    "print X.shape\n",
    "Y = (X*w[0]).T\n",
    "print Y.shape\n",
    "data = data - Y"
   ]
  },
  {
   "cell_type": "code",
   "execution_count": 16,
   "metadata": {
    "collapsed": false,
    "deletable": true,
    "editable": true
   },
   "outputs": [
    {
     "data": {
      "text/plain": [
       "[256.0, 256.0]"
      ]
     },
     "execution_count": 16,
     "metadata": {},
     "output_type": "execute_result"
    }
   ],
   "source": [
    "sxm.header['scan_pixels']"
   ]
  },
  {
   "cell_type": "code",
   "execution_count": 17,
   "metadata": {
    "collapsed": false,
    "deletable": true,
    "editable": true
   },
   "outputs": [
    {
     "data": {
      "text/plain": [
       "[5e-08, 5e-08]"
      ]
     },
     "execution_count": 17,
     "metadata": {},
     "output_type": "execute_result"
    }
   ],
   "source": [
    "sxm.header['scan_range']"
   ]
  },
  {
   "cell_type": "code",
   "execution_count": 18,
   "metadata": {
    "collapsed": false,
    "deletable": true,
    "editable": true
   },
   "outputs": [
    {
     "data": {
      "text/plain": [
       "217.1"
      ]
     },
     "execution_count": 18,
     "metadata": {},
     "output_type": "execute_result"
    }
   ],
   "source": [
    "sxm.header['acq_time']"
   ]
  },
  {
   "cell_type": "code",
   "execution_count": 21,
   "metadata": {
    "collapsed": false,
    "deletable": true,
    "editable": true
   },
   "outputs": [
    {
     "data": {
      "text/plain": [
       "[0.5632, 0.2816]"
      ]
     },
     "execution_count": 21,
     "metadata": {},
     "output_type": "execute_result"
    }
   ],
   "source": [
    "sxm.header['scan_time']"
   ]
  },
  {
   "cell_type": "code",
   "execution_count": 22,
   "metadata": {
    "collapsed": false,
    "deletable": true,
    "editable": true
   },
   "outputs": [
    {
     "data": {
      "text/plain": [
       "216.2688"
      ]
     },
     "execution_count": 22,
     "metadata": {},
     "output_type": "execute_result"
    }
   ],
   "source": [
    "256*(0.5632+0.2816)"
   ]
  },
  {
   "cell_type": "code",
   "execution_count": null,
   "metadata": {
    "collapsed": true,
    "deletable": true,
    "editable": true
   },
   "outputs": [],
   "source": []
  }
 ],
 "metadata": {
  "kernelspec": {
   "display_name": "Python 2",
   "language": "python",
   "name": "python2"
  },
  "language_info": {
   "codemirror_mode": {
    "name": "ipython",
    "version": 2
   },
   "file_extension": ".py",
   "mimetype": "text/x-python",
   "name": "python",
   "nbconvert_exporter": "python",
   "pygments_lexer": "ipython2",
   "version": "2.7.5"
  }
 },
 "nbformat": 4,
 "nbformat_minor": 1
}
