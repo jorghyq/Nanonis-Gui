{
 "cells": [
  {
   "cell_type": "code",
   "execution_count": 1,
   "metadata": {
    "collapsed": true
   },
   "outputs": [],
   "source": [
    "import sys\n",
    "import numpy as np\n",
    "sys.path.insert(1,'../nbrowser/')\n",
    "from nanonisfile import NanonisFile "
   ]
  },
  {
   "cell_type": "code",
   "execution_count": 2,
   "metadata": {
    "collapsed": false
   },
   "outputs": [],
   "source": [
    "sxm = NanonisFile('../test/A150114.101316-01257.sxm')"
   ]
  },
  {
   "cell_type": "code",
   "execution_count": 2,
   "metadata": {
    "collapsed": true
   },
   "outputs": [],
   "source": [
    "sxm = NanonisFile('/home/jorghyq/Data/201403/A140319.152626-00587.sxm')"
   ]
  },
  {
   "cell_type": "code",
   "execution_count": 5,
   "metadata": {
    "collapsed": false,
    "scrolled": true
   },
   "outputs": [
    {
     "data": {
      "text/plain": [
       "{'acq_time': 52.8,\n",
       " 'bias': 0.3384,\n",
       " 'channel': 3,\n",
       " 'comment': '',\n",
       " 'data_info': [{'Calibration': '-8.000E-9',\n",
       "   'Channel': '14',\n",
       "   'Direction': 'both',\n",
       "   'Name': 'Z',\n",
       "   'Offset': '0.000E+0',\n",
       "   'Unit': 'm'},\n",
       "  {'Calibration': '-1.000E-9',\n",
       "   'Channel': '0',\n",
       "   'Direction': 'both',\n",
       "   'Name': 'Current',\n",
       "   'Offset': '0.000E+0',\n",
       "   'Unit': 'A'}],\n",
       " 'filename': '/home/jorghyq/Data/first_test_Cu_vacuum/20130515.180416_testVacuum.001.sxm',\n",
       " 'rec_date': '15.05.2013',\n",
       " 'rec_temp': 290.0,\n",
       " 'rec_time': '18:03:24',\n",
       " 'scan_angle': 0.0,\n",
       " 'scan_dir': 'down',\n",
       " 'scan_file': 'C:\\\\Users\\\\afm\\\\Desktop\\\\first_test_Cu_vacuum\\\\20130515.180416_testVacuum.001.sxm',\n",
       " 'scan_offset': [-6.636657e-09, 2.727271e-08],\n",
       " 'scan_pixels': [512.0, 512.0],\n",
       " 'scan_range': [3.240267e-11, 3.240267e-11],\n",
       " 'scan_time': [0.0512, 0.0512],\n",
       " 'scanit_type': 'FLOAT            MSBFIRST',\n",
       " 'version': 2,\n",
       " 'z-controller': {'I-gain': '7.337E-8 m/s',\n",
       "  'Name': 'log Current',\n",
       "  'P-gain': '3.652E-10 m',\n",
       "  'Setpoint': '5.926E-9 A',\n",
       "  'T-const': '4.977E-3 s',\n",
       "  'on': '1'}}"
      ]
     },
     "execution_count": 5,
     "metadata": {},
     "output_type": "execute_result"
    }
   ],
   "source": [
    "sxm.header"
   ]
  },
  {
   "cell_type": "code",
   "execution_count": 4,
   "metadata": {
    "collapsed": false
   },
   "outputs": [
    {
     "name": "stdout",
     "output_type": "stream",
     "text": [
      "(512, 279)\n",
      "(279,)\n"
     ]
    }
   ],
   "source": [
    "data = sxm.data[0]\n",
    "data = data.data[233:]\n",
    "data = data.T\n",
    "print data.shape\n",
    "print np.mean(data,axis=0).shape"
   ]
  },
  {
   "cell_type": "code",
   "execution_count": 5,
   "metadata": {
    "collapsed": false
   },
   "outputs": [
    {
     "name": "stdout",
     "output_type": "stream",
     "text": [
      "(279, 512)\n",
      "279 512\n",
      "(279,)\n",
      "(279, 2)\n",
      "(2, 512)\n",
      "(279, 512)\n",
      "(512, 279)\n"
     ]
    }
   ],
   "source": [
    "data_temp = data.T\n",
    "print data_temp.shape\n",
    "n = data_temp.shape[0]\n",
    "m = data_temp.shape[1]\n",
    "print n, m\n",
    "xi = np.arange(n)\n",
    "print xi.shape\n",
    "x= np.array([xi,np.ones(n)]).T\n",
    "print x.shape\n",
    "w= np.linalg.lstsq(x,data_temp)[0]\n",
    "#print w.shape\n",
    "#w = w[0]\n",
    "#print w\n",
    "print w.shape\n",
    "#data_sub = np.zeros([n,n])\n",
    "X = np.array([xi,]*int(m)).T\n",
    "print X.shape\n",
    "Y = (X*w[0]).T\n",
    "print Y.shape\n",
    "data = data - Y"
   ]
  },
  {
   "cell_type": "code",
   "execution_count": 16,
   "metadata": {
    "collapsed": false
   },
   "outputs": [
    {
     "data": {
      "text/plain": [
       "[256.0, 256.0]"
      ]
     },
     "execution_count": 16,
     "metadata": {},
     "output_type": "execute_result"
    }
   ],
   "source": [
    "sxm.header['scan_pixels']"
   ]
  },
  {
   "cell_type": "code",
   "execution_count": 17,
   "metadata": {
    "collapsed": false
   },
   "outputs": [
    {
     "data": {
      "text/plain": [
       "[5e-08, 5e-08]"
      ]
     },
     "execution_count": 17,
     "metadata": {},
     "output_type": "execute_result"
    }
   ],
   "source": [
    "sxm.header['scan_range']"
   ]
  },
  {
   "cell_type": "code",
   "execution_count": 18,
   "metadata": {
    "collapsed": false
   },
   "outputs": [
    {
     "data": {
      "text/plain": [
       "217.1"
      ]
     },
     "execution_count": 18,
     "metadata": {},
     "output_type": "execute_result"
    }
   ],
   "source": [
    "sxm.header['acq_time']"
   ]
  },
  {
   "cell_type": "code",
   "execution_count": 21,
   "metadata": {
    "collapsed": false
   },
   "outputs": [
    {
     "data": {
      "text/plain": [
       "[0.5632, 0.2816]"
      ]
     },
     "execution_count": 21,
     "metadata": {},
     "output_type": "execute_result"
    }
   ],
   "source": [
    "sxm.header['scan_time']"
   ]
  },
  {
   "cell_type": "code",
   "execution_count": 22,
   "metadata": {
    "collapsed": false
   },
   "outputs": [
    {
     "data": {
      "text/plain": [
       "216.2688"
      ]
     },
     "execution_count": 22,
     "metadata": {},
     "output_type": "execute_result"
    }
   ],
   "source": [
    "256*(0.5632+0.2816)"
   ]
  },
  {
   "cell_type": "code",
   "execution_count": null,
   "metadata": {
    "collapsed": true
   },
   "outputs": [],
   "source": []
  }
 ],
 "metadata": {
  "kernelspec": {
   "display_name": "Python 2",
   "language": "python",
   "name": "python2"
  },
  "language_info": {
   "codemirror_mode": {
    "name": "ipython",
    "version": 2
   },
   "file_extension": ".py",
   "mimetype": "text/x-python",
   "name": "python",
   "nbconvert_exporter": "python",
   "pygments_lexer": "ipython2",
   "version": "2.7.5"
  }
 },
 "nbformat": 4,
 "nbformat_minor": 1
}
